{
  "nbformat": 4,
  "nbformat_minor": 0,
  "metadata": {
    "colab": {
      "name": "tensorflow_study",
      "version": "0.3.2",
      "provenance": [],
      "collapsed_sections": [],
      "include_colab_link": true
    },
    "kernelspec": {
      "name": "python3",
      "display_name": "Python 3"
    }
  },
  "cells": [
    {
      "cell_type": "markdown",
      "metadata": {
        "id": "view-in-github",
        "colab_type": "text"
      },
      "source": [
        "<a href=\"https://colab.research.google.com/github/NellyLuo/tensorflow_study/blob/master/exercise/tensorflow_study_mnist_lr.ipynb\" target=\"_parent\"><img src=\"https://colab.research.google.com/assets/colab-badge.svg\" alt=\"Open In Colab\"/></a>"
      ]
    },
    {
      "metadata": {
        "id": "NG6kQ8OO7nm8",
        "colab_type": "code",
        "colab": {}
      },
      "cell_type": "code",
      "source": [
        "import tensorflow as tf\n",
        "\n",
        "m1 = tf.constant([3, 5])\n",
        "m2 = tf.constant([1, 2])\n",
        "\n",
        "result = tf.add(m1, m2)\n",
        "\n",
        "sess = tf.Session()\n",
        "print(sess.run(result))\n",
        "sess.close()"
      ],
      "execution_count": 0,
      "outputs": []
    },
    {
      "metadata": {
        "id": "fo5OH5Qh8Euq",
        "colab_type": "code",
        "outputId": "2fd6d3c3-93b5-4279-ab79-8d82fec4c7c7",
        "colab": {
          "base_uri": "https://localhost:8080/",
          "height": 259
        }
      },
      "cell_type": "code",
      "source": [
        "import tensorflow as tf\n",
        "from tensorflow import keras\n",
        "\n",
        "mnist = tf.keras.datasets.mnist\n",
        "\n",
        "(x_train, y_train),(x_test, y_test) = mnist.load_data()\n",
        "x_train, x_test = x_train / 255.0, x_test / 255.0\n",
        "\n",
        "model = tf.keras.models.Sequential([\n",
        "  tf.keras.layers.Flatten(),\n",
        "  tf.keras.layers.Dense(512, activation=tf.nn.relu),\n",
        "  tf.keras.layers.Dropout(0.2),\n",
        "  tf.keras.layers.Dense(10, activation=tf.nn.softmax)\n",
        "])\n",
        "model.compile(optimizer='adam',\n",
        "              loss='sparse_categorical_crossentropy',\n",
        "              metrics=['accuracy'])\n",
        "\n",
        "model.fit(x_train, y_train, epochs=5)\n",
        "test_loss, test_acc = model.evaluate(x_test, y_test)\n",
        "\n",
        "print('Test accuracy:', test_acc)"
      ],
      "execution_count": 0,
      "outputs": [
        {
          "output_type": "stream",
          "text": [
            "Downloading data from https://storage.googleapis.com/tensorflow/tf-keras-datasets/mnist.npz\n",
            "11493376/11490434 [==============================] - 0s 0us/step\n",
            "Epoch 1/5\n",
            "60000/60000 [==============================] - 15s 242us/step - loss: 0.2016 - acc: 0.9409\n",
            "Epoch 2/5\n",
            "60000/60000 [==============================] - 14s 233us/step - loss: 0.0806 - acc: 0.9748\n",
            "Epoch 3/5\n",
            "60000/60000 [==============================] - 13s 223us/step - loss: 0.0526 - acc: 0.9839\n",
            "Epoch 4/5\n",
            "60000/60000 [==============================] - 13s 225us/step - loss: 0.0368 - acc: 0.9886\n",
            "Epoch 5/5\n",
            "60000/60000 [==============================] - 13s 221us/step - loss: 0.0273 - acc: 0.9915\n",
            "10000/10000 [==============================] - 1s 52us/step\n",
            "Test accuracy: 0.9812\n"
          ],
          "name": "stdout"
        }
      ]
    },
    {
      "metadata": {
        "id": "QR4_qI16eP_T",
        "colab_type": "code",
        "colab": {
          "base_uri": "https://localhost:8080/",
          "height": 448
        },
        "outputId": "2269d63e-7a12-4c97-9d30-c696ab557e04"
      },
      "cell_type": "code",
      "source": [
        "import tensorflow as tf\n",
        "from tensorflow.examples.tutorials.mnist import input_data\n",
        "import matplotlib.pyplot as plt\n",
        "\n",
        "MNIST = input_data.read_data_sets('../mnist_link', one_hot = True)\n",
        "\n",
        "learning_rate = 0.01\n",
        "# eopch指的使用全部数据集进行一次训练。进行训练时一个epoch可能更新了若干次参数。\n",
        "# epoch_num 为指定的epoch次数，整个训练集训练几轮。\n",
        "epoch_num = 25\n",
        "batch_size = 128\n",
        "\n",
        "# tf.placeholder(dtype, shape=None, name=None)\n",
        "X = tf.placeholder(tf.float32, [batch_size, 784], name= 'input')\n",
        "Y = tf.placeholder(tf.float32, [batch_size, 10], name= 'label')\n",
        "# tf.Variable(name=None, initial_value, validate_shape=True, trainable=True,\n",
        "#             collections=None)\n",
        "w = tf.Variable(tf.random_normal(shape = [784, 10], stddev = 0.01),\n",
        "                name= 'weights')\n",
        "b = tf.Variable(tf.zeros([1,10]), name = 'bias')\n",
        "\n",
        "# 下面这个是目标函数，matmul,矩阵点乘\n",
        "logits = tf.matmul(X, w) + b\n",
        "# 求交叉熵\n",
        "# tf.nn.softmax_cross_entropy_with_logits(\n",
        "#     _sentinel=None, labels=None, logits=None, dim=-1, name=None)\n",
        "# _sentinel: 这个参数一般情况不使用,直接设置为None就好\n",
        "# logits: 一个没有缩放的对数张量。labels和logits具有相同的type和shape\n",
        "# labels: 每一行 labels[i] 必须是一个有效的概率分布值。\n",
        "# name: 为这个操作取个名字。\n",
        "entropy = tf.nn.softmax_cross_entropy_with_logits(labels = Y, logits = logits)\n",
        "# tf.reduce_mean(input_tensor, axis=None, keep_dims=False, \n",
        "#                name=None, reduction_indices=None)\n",
        "# 求指定维度平均值，axis指定维度\n",
        "loss = tf.reduce_mean(entropy)\n",
        "\n",
        "# 优化方法\n",
        "optimizer = tf.train.GradientDescentOptimizer(learning_rate=learning_rate).minimize(loss)\n",
        "\n",
        "# 初始化模型的参数\n",
        "init = tf.global_variables_initializer()\n",
        "loss_array = []\n",
        "with tf.Session() as sess:\n",
        "  sess.run(init)\n",
        "#   train\n",
        "  batch_num = int(MNIST.train.num_examples/batch_size)\n",
        "#   在设定的轮次中\n",
        "  for _ in range(epoch_num):\n",
        "#     在设定的batch次数中\n",
        "    for _ in range(batch_num):\n",
        "      X_batch, Y_batch = MNIST.train.next_batch(batch_size)\n",
        "      _, v = sess.run([optimizer, loss], {X: X_batch, Y:Y_batch})\n",
        "      loss_array.append(v)\n",
        "  \n",
        "#   test\n",
        "  total_correct_preds = 0\n",
        "  batch_num = int(MNIST.test.num_examples/batch_size)\n",
        "  for i in range(batch_num):\n",
        "    X_batch, Y_batch = MNIST.test.next_batch(batch_size)\n",
        "    _, loss_batch, logits_batch = sess.run(\n",
        "        [optimizer, loss, logits],{X:X_batch, Y:Y_batch})\n",
        "    \n",
        "    preds = tf.nn.softmax(logits_batch)\n",
        "    correct_preds = tf.equal(tf.argmax(preds,1),tf.argmax(Y_batch,1))\n",
        "    accuracy = tf.reduce_sum(tf.cast(correct_preds, tf.float32))\n",
        "    total_correct_preds += sess.run(accuracy)\n",
        "  \n",
        "  print(\"Accuracy rate is {}\".format(total_correct_preds/MNIST.test.num_examples))\n",
        "\n",
        "x_axis = range(len(loss_array))\n",
        "plt.plot(x_axis, loss_array)\n",
        "plt.title('loss for each batch')\n",
        "plt.show()    \n"
      ],
      "execution_count": 11,
      "outputs": [
        {
          "output_type": "stream",
          "text": [
            "Extracting ../mnist_link/train-images-idx3-ubyte.gz\n",
            "Extracting ../mnist_link/train-labels-idx1-ubyte.gz\n",
            "Extracting ../mnist_link/t10k-images-idx3-ubyte.gz\n",
            "Extracting ../mnist_link/t10k-labels-idx1-ubyte.gz\n",
            "Accuracy rate is 0.9102\n"
          ],
          "name": "stdout"
        },
        {
          "output_type": "display_data",
          "data": {
            "image/png": "[encoded data removed]",
            "text/plain": [
              "<matplotlib.figure.Figure at 0x7f12e6965da0>"
            ]
          },
          "metadata": {
            "tags": []
          }
        }
      ]
    }
  ]
}